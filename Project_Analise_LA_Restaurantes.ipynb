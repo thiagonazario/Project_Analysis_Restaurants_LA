{
 "cells": [
  {
   "cell_type": "markdown",
   "metadata": {},
   "source": [
    "![fotos de capas de projetos notebooks triple ten (2).png](<attachment:fotos de capas de projetos notebooks triple ten (2).png>)"
   ]
  },
  {
   "cell_type": "markdown",
   "metadata": {},
   "source": [
    "# *Análise de Viabilidade e Sustentabilidade: Cafeteria Inovadora com Garçons Robôs em Los Angeles.*"
   ]
  },
  {
   "cell_type": "markdown",
   "metadata": {},
   "source": [
    "### *Descrição do Projeto*"
   ]
  },
  {
   "cell_type": "markdown",
   "metadata": {},
   "source": [
    "*Nossa cafeteria inovadora em Los Angeles promete uma experiência única, combinando a tradição do café com a tecnologia de garçons robôs. Nesta pesquisa, mergulharemos nos dados de restaurantes em LA para mapear oportunidades e desafios.*\n",
    "\n",
    "*Exploraremos as preferências dos consumidores e analisaremos a concorrência, tudo para garantir que nossa proposta não seja apenas uma tendência momentânea. A pesquisa será a base para atrair investidores, oferecendo-lhes uma visão clara da viabilidade e sustentabilidade de nossa visão futurista para o mundo dos cafés em Los Angeles.*"
   ]
  },
  {
   "cell_type": "markdown",
   "metadata": {},
   "source": [
    "### *Descrição dos Dados*"
   ]
  },
  {
   "cell_type": "markdown",
   "metadata": {},
   "source": [
    "*A tabela ***rest_data*** oferece informações essenciais sobre os estabelecimentos em Los Angeles:*\n",
    "\n",
    "- ***object_name:*** *Nome único do estabelecimento.*\n",
    "- ***chain:*** *Indicação de pertencer a uma rede (TRUE/FALSE).*\n",
    "- ***object_type:*** *Tipo de estabelecimento.*\n",
    "- ***address:*** *Endereço do estabelecimento.*\n",
    "- ***number:*** *Número de assentos disponíveis.*\n",
    "\n",
    "*Esses dados fornecem uma base sólida para nossa análise, permitindo avaliar a presença de redes, entender a diversidade de tipos de estabelecimentos, analisar a localização geográfica e considerar a capacidade média de assentos.*"
   ]
  },
  {
   "cell_type": "markdown",
   "metadata": {},
   "source": [
    "# *Iniciando Project*"
   ]
  },
  {
   "cell_type": "code",
   "execution_count": 194,
   "metadata": {},
   "outputs": [],
   "source": [
    "# importando bibliotecas\n",
    "import pandas as pd\n",
    "import matplotlib.pyplot as plt\n",
    "import seaborn as sns"
   ]
  },
  {
   "cell_type": "markdown",
   "metadata": {},
   "source": [
    "*Aqui criar tudo com caminho novo aprendido na sprint 9*"
   ]
  },
  {
   "cell_type": "code",
   "execution_count": 3,
   "metadata": {},
   "outputs": [],
   "source": [
    "# Definindo o caminho do arquivo\n",
    "path = 'C:/my_workspace/Github/Project_Analise_LA_Restaurantes/data/'\n",
    "\n",
    "# Carregando arquivo\n",
    "df = pd.read_csv(path + 'rest_data_us.csv')"
   ]
  },
  {
   "cell_type": "markdown",
   "metadata": {},
   "source": [
    "# *Começando limpeza e tratamento dos dados*"
   ]
  },
  {
   "cell_type": "markdown",
   "metadata": {},
   "source": [
    "*Primeiras informações.*"
   ]
  },
  {
   "cell_type": "code",
   "execution_count": 4,
   "metadata": {},
   "outputs": [
    {
     "name": "stdout",
     "output_type": "stream",
     "text": [
      "<class 'pandas.core.frame.DataFrame'>\n",
      "RangeIndex: 9651 entries, 0 to 9650\n",
      "Data columns (total 6 columns):\n",
      " #   Column       Non-Null Count  Dtype \n",
      "---  ------       --------------  ----- \n",
      " 0   id           9651 non-null   int64 \n",
      " 1   object_name  9651 non-null   object\n",
      " 2   address      9651 non-null   object\n",
      " 3   chain        9648 non-null   object\n",
      " 4   object_type  9651 non-null   object\n",
      " 5   number       9651 non-null   int64 \n",
      "dtypes: int64(2), object(4)\n",
      "memory usage: 452.5+ KB\n"
     ]
    },
    {
     "data": {
      "text/html": [
       "<div>\n",
       "<style scoped>\n",
       "    .dataframe tbody tr th:only-of-type {\n",
       "        vertical-align: middle;\n",
       "    }\n",
       "\n",
       "    .dataframe tbody tr th {\n",
       "        vertical-align: top;\n",
       "    }\n",
       "\n",
       "    .dataframe thead th {\n",
       "        text-align: right;\n",
       "    }\n",
       "</style>\n",
       "<table border=\"1\" class=\"dataframe\">\n",
       "  <thead>\n",
       "    <tr style=\"text-align: right;\">\n",
       "      <th></th>\n",
       "      <th>id</th>\n",
       "      <th>object_name</th>\n",
       "      <th>address</th>\n",
       "      <th>chain</th>\n",
       "      <th>object_type</th>\n",
       "      <th>number</th>\n",
       "    </tr>\n",
       "  </thead>\n",
       "  <tbody>\n",
       "    <tr>\n",
       "      <th>0</th>\n",
       "      <td>11786</td>\n",
       "      <td>HABITAT COFFEE SHOP</td>\n",
       "      <td>3708 N EAGLE ROCK BLVD</td>\n",
       "      <td>False</td>\n",
       "      <td>Cafe</td>\n",
       "      <td>26</td>\n",
       "    </tr>\n",
       "    <tr>\n",
       "      <th>1</th>\n",
       "      <td>11787</td>\n",
       "      <td>REILLY'S</td>\n",
       "      <td>100 WORLD WAY # 120</td>\n",
       "      <td>False</td>\n",
       "      <td>Restaurant</td>\n",
       "      <td>9</td>\n",
       "    </tr>\n",
       "    <tr>\n",
       "      <th>2</th>\n",
       "      <td>11788</td>\n",
       "      <td>STREET CHURROS</td>\n",
       "      <td>6801 HOLLYWOOD BLVD # 253</td>\n",
       "      <td>False</td>\n",
       "      <td>Fast Food</td>\n",
       "      <td>20</td>\n",
       "    </tr>\n",
       "    <tr>\n",
       "      <th>3</th>\n",
       "      <td>11789</td>\n",
       "      <td>TRINITI ECHO PARK</td>\n",
       "      <td>1814 W SUNSET BLVD</td>\n",
       "      <td>False</td>\n",
       "      <td>Restaurant</td>\n",
       "      <td>22</td>\n",
       "    </tr>\n",
       "    <tr>\n",
       "      <th>4</th>\n",
       "      <td>11790</td>\n",
       "      <td>POLLEN</td>\n",
       "      <td>2100 ECHO PARK AVE</td>\n",
       "      <td>False</td>\n",
       "      <td>Restaurant</td>\n",
       "      <td>20</td>\n",
       "    </tr>\n",
       "  </tbody>\n",
       "</table>\n",
       "</div>"
      ],
      "text/plain": [
       "      id          object_name                    address  chain object_type  \\\n",
       "0  11786  HABITAT COFFEE SHOP     3708 N EAGLE ROCK BLVD  False        Cafe   \n",
       "1  11787             REILLY'S        100 WORLD WAY # 120  False  Restaurant   \n",
       "2  11788       STREET CHURROS  6801 HOLLYWOOD BLVD # 253  False   Fast Food   \n",
       "3  11789    TRINITI ECHO PARK         1814 W SUNSET BLVD  False  Restaurant   \n",
       "4  11790               POLLEN         2100 ECHO PARK AVE  False  Restaurant   \n",
       "\n",
       "   number  \n",
       "0      26  \n",
       "1       9  \n",
       "2      20  \n",
       "3      22  \n",
       "4      20  "
      ]
     },
     "execution_count": 4,
     "metadata": {},
     "output_type": "execute_result"
    }
   ],
   "source": [
    "df.info()\n",
    "df.head()"
   ]
  },
  {
   "cell_type": "code",
   "execution_count": 5,
   "metadata": {},
   "outputs": [
    {
     "data": {
      "text/html": [
       "<div>\n",
       "<style scoped>\n",
       "    .dataframe tbody tr th:only-of-type {\n",
       "        vertical-align: middle;\n",
       "    }\n",
       "\n",
       "    .dataframe tbody tr th {\n",
       "        vertical-align: top;\n",
       "    }\n",
       "\n",
       "    .dataframe thead th {\n",
       "        text-align: right;\n",
       "    }\n",
       "</style>\n",
       "<table border=\"1\" class=\"dataframe\">\n",
       "  <thead>\n",
       "    <tr style=\"text-align: right;\">\n",
       "      <th></th>\n",
       "      <th>id</th>\n",
       "      <th>object_name</th>\n",
       "      <th>address</th>\n",
       "      <th>chain</th>\n",
       "      <th>object_type</th>\n",
       "      <th>number</th>\n",
       "    </tr>\n",
       "  </thead>\n",
       "  <tbody>\n",
       "    <tr>\n",
       "      <th>8630</th>\n",
       "      <td>20416</td>\n",
       "      <td>MUSTARD SEED CAFE</td>\n",
       "      <td>1948 N HILLHURST AVE</td>\n",
       "      <td>False</td>\n",
       "      <td>Restaurant</td>\n",
       "      <td>46</td>\n",
       "    </tr>\n",
       "    <tr>\n",
       "      <th>5131</th>\n",
       "      <td>16917</td>\n",
       "      <td>ELECTRIC OWL</td>\n",
       "      <td>1451 N GARDNER ST</td>\n",
       "      <td>False</td>\n",
       "      <td>Restaurant</td>\n",
       "      <td>91</td>\n",
       "    </tr>\n",
       "    <tr>\n",
       "      <th>1074</th>\n",
       "      <td>12860</td>\n",
       "      <td>FOOD FOR LIFE INC</td>\n",
       "      <td>401 E 6TH ST</td>\n",
       "      <td>True</td>\n",
       "      <td>Restaurant</td>\n",
       "      <td>28</td>\n",
       "    </tr>\n",
       "    <tr>\n",
       "      <th>6853</th>\n",
       "      <td>18639</td>\n",
       "      <td>TRIMANA</td>\n",
       "      <td>633 W 5TH ST # 150</td>\n",
       "      <td>True</td>\n",
       "      <td>Restaurant</td>\n",
       "      <td>7</td>\n",
       "    </tr>\n",
       "    <tr>\n",
       "      <th>4453</th>\n",
       "      <td>16239</td>\n",
       "      <td>J.J. BAKERY</td>\n",
       "      <td>3183 WILSHIRE BLVD</td>\n",
       "      <td>True</td>\n",
       "      <td>Bakery</td>\n",
       "      <td>48</td>\n",
       "    </tr>\n",
       "    <tr>\n",
       "      <th>350</th>\n",
       "      <td>12136</td>\n",
       "      <td>WOOD HANDCRAFTED PIZZA</td>\n",
       "      <td>2861 W SUNSET BLVD</td>\n",
       "      <td>False</td>\n",
       "      <td>Pizza</td>\n",
       "      <td>47</td>\n",
       "    </tr>\n",
       "    <tr>\n",
       "      <th>1081</th>\n",
       "      <td>12867</td>\n",
       "      <td>I LOVE BOBA</td>\n",
       "      <td>1001 S VERMONT AVE STE #111</td>\n",
       "      <td>True</td>\n",
       "      <td>Restaurant</td>\n",
       "      <td>13</td>\n",
       "    </tr>\n",
       "    <tr>\n",
       "      <th>3126</th>\n",
       "      <td>14912</td>\n",
       "      <td>THE BURGUNDY ROOM</td>\n",
       "      <td>1621 1/2 N CAHUENGA BLVD</td>\n",
       "      <td>False</td>\n",
       "      <td>Restaurant</td>\n",
       "      <td>5</td>\n",
       "    </tr>\n",
       "    <tr>\n",
       "      <th>348</th>\n",
       "      <td>12134</td>\n",
       "      <td>CATALINA'S BAR &amp; GRILL</td>\n",
       "      <td>6725 W SUNSET BLVD</td>\n",
       "      <td>False</td>\n",
       "      <td>Restaurant</td>\n",
       "      <td>185</td>\n",
       "    </tr>\n",
       "    <tr>\n",
       "      <th>7140</th>\n",
       "      <td>18926</td>\n",
       "      <td>KENTUCKY FRIED CHICKEN</td>\n",
       "      <td>1789 W JEFFERSON BLVD</td>\n",
       "      <td>True</td>\n",
       "      <td>Fast Food</td>\n",
       "      <td>48</td>\n",
       "    </tr>\n",
       "    <tr>\n",
       "      <th>9586</th>\n",
       "      <td>21372</td>\n",
       "      <td>BEST DONUTS</td>\n",
       "      <td>3991 S WESTERN AVE UNIT 1</td>\n",
       "      <td>True</td>\n",
       "      <td>Fast Food</td>\n",
       "      <td>15</td>\n",
       "    </tr>\n",
       "    <tr>\n",
       "      <th>1855</th>\n",
       "      <td>13641</td>\n",
       "      <td>STICKY RICE</td>\n",
       "      <td>317 BROADWAY # B-5</td>\n",
       "      <td>True</td>\n",
       "      <td>Restaurant</td>\n",
       "      <td>27</td>\n",
       "    </tr>\n",
       "    <tr>\n",
       "      <th>1967</th>\n",
       "      <td>13753</td>\n",
       "      <td>AFC SUSHI @ RALPH#278</td>\n",
       "      <td>8701 LINCOLN BLVD</td>\n",
       "      <td>False</td>\n",
       "      <td>Restaurant</td>\n",
       "      <td>20</td>\n",
       "    </tr>\n",
       "    <tr>\n",
       "      <th>7527</th>\n",
       "      <td>19313</td>\n",
       "      <td>HOUSE OF BOBA</td>\n",
       "      <td>5930 S MAIN ST STE 102</td>\n",
       "      <td>True</td>\n",
       "      <td>Restaurant</td>\n",
       "      <td>25</td>\n",
       "    </tr>\n",
       "    <tr>\n",
       "      <th>9465</th>\n",
       "      <td>21251</td>\n",
       "      <td>CONCORD EATERY</td>\n",
       "      <td>517 S SPRING ST</td>\n",
       "      <td>False</td>\n",
       "      <td>Restaurant</td>\n",
       "      <td>6</td>\n",
       "    </tr>\n",
       "  </tbody>\n",
       "</table>\n",
       "</div>"
      ],
      "text/plain": [
       "         id             object_name                      address  chain  \\\n",
       "8630  20416       MUSTARD SEED CAFE         1948 N HILLHURST AVE  False   \n",
       "5131  16917            ELECTRIC OWL            1451 N GARDNER ST  False   \n",
       "1074  12860       FOOD FOR LIFE INC                 401 E 6TH ST   True   \n",
       "6853  18639                 TRIMANA           633 W 5TH ST # 150   True   \n",
       "4453  16239             J.J. BAKERY           3183 WILSHIRE BLVD   True   \n",
       "350   12136  WOOD HANDCRAFTED PIZZA           2861 W SUNSET BLVD  False   \n",
       "1081  12867             I LOVE BOBA  1001 S VERMONT AVE STE #111   True   \n",
       "3126  14912       THE BURGUNDY ROOM     1621 1/2 N CAHUENGA BLVD  False   \n",
       "348   12134  CATALINA'S BAR & GRILL           6725 W SUNSET BLVD  False   \n",
       "7140  18926  KENTUCKY FRIED CHICKEN        1789 W JEFFERSON BLVD   True   \n",
       "9586  21372             BEST DONUTS    3991 S WESTERN AVE UNIT 1   True   \n",
       "1855  13641             STICKY RICE           317 BROADWAY # B-5   True   \n",
       "1967  13753   AFC SUSHI @ RALPH#278            8701 LINCOLN BLVD  False   \n",
       "7527  19313           HOUSE OF BOBA       5930 S MAIN ST STE 102   True   \n",
       "9465  21251          CONCORD EATERY              517 S SPRING ST  False   \n",
       "\n",
       "     object_type  number  \n",
       "8630  Restaurant      46  \n",
       "5131  Restaurant      91  \n",
       "1074  Restaurant      28  \n",
       "6853  Restaurant       7  \n",
       "4453      Bakery      48  \n",
       "350        Pizza      47  \n",
       "1081  Restaurant      13  \n",
       "3126  Restaurant       5  \n",
       "348   Restaurant     185  \n",
       "7140   Fast Food      48  \n",
       "9586   Fast Food      15  \n",
       "1855  Restaurant      27  \n",
       "1967  Restaurant      20  \n",
       "7527  Restaurant      25  \n",
       "9465  Restaurant       6  "
      ]
     },
     "execution_count": 5,
     "metadata": {},
     "output_type": "execute_result"
    }
   ],
   "source": [
    "df.sample(15)"
   ]
  },
  {
   "cell_type": "code",
   "execution_count": 6,
   "metadata": {},
   "outputs": [
    {
     "data": {
      "text/plain": [
       "(9651, 6)"
      ]
     },
     "execution_count": 6,
     "metadata": {},
     "output_type": "execute_result"
    }
   ],
   "source": [
    "df.shape"
   ]
  },
  {
   "cell_type": "markdown",
   "metadata": {},
   "source": [
    "*Temos 6 colunas e 9651 linhas no dataframe.*\n",
    "\n",
    "*Vamos olhar os nomes das colunas.*"
   ]
  },
  {
   "cell_type": "code",
   "execution_count": 7,
   "metadata": {},
   "outputs": [
    {
     "data": {
      "text/plain": [
       "Index(['id', 'object_name', 'address', 'chain', 'object_type', 'number'], dtype='object')"
      ]
     },
     "execution_count": 7,
     "metadata": {},
     "output_type": "execute_result"
    }
   ],
   "source": [
    "df.columns"
   ]
  },
  {
   "cell_type": "markdown",
   "metadata": {},
   "source": [
    "*Simplificando nomes de duas colunas.*"
   ]
  },
  {
   "cell_type": "code",
   "execution_count": 8,
   "metadata": {},
   "outputs": [
    {
     "data": {
      "text/html": [
       "<div>\n",
       "<style scoped>\n",
       "    .dataframe tbody tr th:only-of-type {\n",
       "        vertical-align: middle;\n",
       "    }\n",
       "\n",
       "    .dataframe tbody tr th {\n",
       "        vertical-align: top;\n",
       "    }\n",
       "\n",
       "    .dataframe thead th {\n",
       "        text-align: right;\n",
       "    }\n",
       "</style>\n",
       "<table border=\"1\" class=\"dataframe\">\n",
       "  <thead>\n",
       "    <tr style=\"text-align: right;\">\n",
       "      <th></th>\n",
       "      <th>id</th>\n",
       "      <th>name</th>\n",
       "      <th>address</th>\n",
       "      <th>chain</th>\n",
       "      <th>type</th>\n",
       "      <th>number</th>\n",
       "    </tr>\n",
       "  </thead>\n",
       "  <tbody>\n",
       "    <tr>\n",
       "      <th>0</th>\n",
       "      <td>11786</td>\n",
       "      <td>HABITAT COFFEE SHOP</td>\n",
       "      <td>3708 N EAGLE ROCK BLVD</td>\n",
       "      <td>False</td>\n",
       "      <td>Cafe</td>\n",
       "      <td>26</td>\n",
       "    </tr>\n",
       "    <tr>\n",
       "      <th>1</th>\n",
       "      <td>11787</td>\n",
       "      <td>REILLY'S</td>\n",
       "      <td>100 WORLD WAY # 120</td>\n",
       "      <td>False</td>\n",
       "      <td>Restaurant</td>\n",
       "      <td>9</td>\n",
       "    </tr>\n",
       "    <tr>\n",
       "      <th>2</th>\n",
       "      <td>11788</td>\n",
       "      <td>STREET CHURROS</td>\n",
       "      <td>6801 HOLLYWOOD BLVD # 253</td>\n",
       "      <td>False</td>\n",
       "      <td>Fast Food</td>\n",
       "      <td>20</td>\n",
       "    </tr>\n",
       "    <tr>\n",
       "      <th>3</th>\n",
       "      <td>11789</td>\n",
       "      <td>TRINITI ECHO PARK</td>\n",
       "      <td>1814 W SUNSET BLVD</td>\n",
       "      <td>False</td>\n",
       "      <td>Restaurant</td>\n",
       "      <td>22</td>\n",
       "    </tr>\n",
       "    <tr>\n",
       "      <th>4</th>\n",
       "      <td>11790</td>\n",
       "      <td>POLLEN</td>\n",
       "      <td>2100 ECHO PARK AVE</td>\n",
       "      <td>False</td>\n",
       "      <td>Restaurant</td>\n",
       "      <td>20</td>\n",
       "    </tr>\n",
       "  </tbody>\n",
       "</table>\n",
       "</div>"
      ],
      "text/plain": [
       "      id                 name                    address  chain        type  \\\n",
       "0  11786  HABITAT COFFEE SHOP     3708 N EAGLE ROCK BLVD  False        Cafe   \n",
       "1  11787             REILLY'S        100 WORLD WAY # 120  False  Restaurant   \n",
       "2  11788       STREET CHURROS  6801 HOLLYWOOD BLVD # 253  False   Fast Food   \n",
       "3  11789    TRINITI ECHO PARK         1814 W SUNSET BLVD  False  Restaurant   \n",
       "4  11790               POLLEN         2100 ECHO PARK AVE  False  Restaurant   \n",
       "\n",
       "   number  \n",
       "0      26  \n",
       "1       9  \n",
       "2      20  \n",
       "3      22  \n",
       "4      20  "
      ]
     },
     "execution_count": 8,
     "metadata": {},
     "output_type": "execute_result"
    }
   ],
   "source": [
    "df = df.rename(columns={'object_name': 'name', 'object_type': 'type'})\n",
    "df.head()"
   ]
  },
  {
   "cell_type": "markdown",
   "metadata": {},
   "source": [
    "*Sem problemas nos nomes das colunas agora.*\n",
    "\n",
    "*Vamos observar algumas métricas.*"
   ]
  },
  {
   "cell_type": "code",
   "execution_count": 9,
   "metadata": {},
   "outputs": [
    {
     "data": {
      "text/html": [
       "<div>\n",
       "<style scoped>\n",
       "    .dataframe tbody tr th:only-of-type {\n",
       "        vertical-align: middle;\n",
       "    }\n",
       "\n",
       "    .dataframe tbody tr th {\n",
       "        vertical-align: top;\n",
       "    }\n",
       "\n",
       "    .dataframe thead th {\n",
       "        text-align: right;\n",
       "    }\n",
       "</style>\n",
       "<table border=\"1\" class=\"dataframe\">\n",
       "  <thead>\n",
       "    <tr style=\"text-align: right;\">\n",
       "      <th></th>\n",
       "      <th>id</th>\n",
       "      <th>number</th>\n",
       "    </tr>\n",
       "  </thead>\n",
       "  <tbody>\n",
       "    <tr>\n",
       "      <th>count</th>\n",
       "      <td>9651.000000</td>\n",
       "      <td>9651.000000</td>\n",
       "    </tr>\n",
       "    <tr>\n",
       "      <th>mean</th>\n",
       "      <td>16611.000000</td>\n",
       "      <td>43.695161</td>\n",
       "    </tr>\n",
       "    <tr>\n",
       "      <th>std</th>\n",
       "      <td>2786.148058</td>\n",
       "      <td>47.622874</td>\n",
       "    </tr>\n",
       "    <tr>\n",
       "      <th>min</th>\n",
       "      <td>11786.000000</td>\n",
       "      <td>1.000000</td>\n",
       "    </tr>\n",
       "    <tr>\n",
       "      <th>25%</th>\n",
       "      <td>14198.500000</td>\n",
       "      <td>14.000000</td>\n",
       "    </tr>\n",
       "    <tr>\n",
       "      <th>50%</th>\n",
       "      <td>16611.000000</td>\n",
       "      <td>27.000000</td>\n",
       "    </tr>\n",
       "    <tr>\n",
       "      <th>75%</th>\n",
       "      <td>19023.500000</td>\n",
       "      <td>46.000000</td>\n",
       "    </tr>\n",
       "    <tr>\n",
       "      <th>max</th>\n",
       "      <td>21436.000000</td>\n",
       "      <td>229.000000</td>\n",
       "    </tr>\n",
       "  </tbody>\n",
       "</table>\n",
       "</div>"
      ],
      "text/plain": [
       "                 id       number\n",
       "count   9651.000000  9651.000000\n",
       "mean   16611.000000    43.695161\n",
       "std     2786.148058    47.622874\n",
       "min    11786.000000     1.000000\n",
       "25%    14198.500000    14.000000\n",
       "50%    16611.000000    27.000000\n",
       "75%    19023.500000    46.000000\n",
       "max    21436.000000   229.000000"
      ]
     },
     "execution_count": 9,
     "metadata": {},
     "output_type": "execute_result"
    }
   ],
   "source": [
    "df.describe()"
   ]
  },
  {
   "cell_type": "markdown",
   "metadata": {},
   "source": [
    "*Não obtivemos muitas informações relevantes com describe.*\n",
    "\n",
    "*Iremos procurar por nulos ou duplicados.*"
   ]
  },
  {
   "cell_type": "code",
   "execution_count": 10,
   "metadata": {},
   "outputs": [
    {
     "data": {
      "text/plain": [
       "0"
      ]
     },
     "execution_count": 10,
     "metadata": {},
     "output_type": "execute_result"
    }
   ],
   "source": [
    "df.duplicated().sum()"
   ]
  },
  {
   "cell_type": "markdown",
   "metadata": {},
   "source": [
    "*Sem duplicados.*"
   ]
  },
  {
   "cell_type": "code",
   "execution_count": 11,
   "metadata": {},
   "outputs": [
    {
     "data": {
      "text/plain": [
       "id         0\n",
       "name       0\n",
       "address    0\n",
       "chain      3\n",
       "type       0\n",
       "number     0\n",
       "dtype: int64"
      ]
     },
     "execution_count": 11,
     "metadata": {},
     "output_type": "execute_result"
    }
   ],
   "source": [
    "df.isna().sum()"
   ]
  },
  {
   "cell_type": "markdown",
   "metadata": {},
   "source": [
    "*Olhando coluna chain.*"
   ]
  },
  {
   "cell_type": "code",
   "execution_count": 12,
   "metadata": {},
   "outputs": [
    {
     "data": {
      "text/plain": [
       "False    5972\n",
       "True     3676\n",
       "Name: chain, dtype: int64"
      ]
     },
     "execution_count": 12,
     "metadata": {},
     "output_type": "execute_result"
    }
   ],
   "source": [
    "df.chain.value_counts()"
   ]
  },
  {
   "cell_type": "markdown",
   "metadata": {},
   "source": [
    "*Possivelmente na EDA transformaremos a coluna chain em formato binário (0, 1).*\n",
    "\n",
    "*Por hora, iremos preencher os valores faltantes com a moda.*"
   ]
  },
  {
   "cell_type": "code",
   "execution_count": 13,
   "metadata": {},
   "outputs": [
    {
     "data": {
      "text/plain": [
       "id         0\n",
       "name       0\n",
       "address    0\n",
       "chain      0\n",
       "type       0\n",
       "number     0\n",
       "dtype: int64"
      ]
     },
     "execution_count": 13,
     "metadata": {},
     "output_type": "execute_result"
    }
   ],
   "source": [
    "df['chain'] = df['chain'].fillna(False)\n",
    "df.isna().sum()"
   ]
  },
  {
   "cell_type": "markdown",
   "metadata": {},
   "source": [
    "*Coluna type.*"
   ]
  },
  {
   "cell_type": "code",
   "execution_count": 14,
   "metadata": {},
   "outputs": [
    {
     "data": {
      "text/plain": [
       "Restaurant    7255\n",
       "Fast Food     1066\n",
       "Cafe           435\n",
       "Pizza          320\n",
       "Bar            292\n",
       "Bakery         283\n",
       "Name: type, dtype: int64"
      ]
     },
     "execution_count": 14,
     "metadata": {},
     "output_type": "execute_result"
    }
   ],
   "source": [
    "df.type.value_counts()"
   ]
  },
  {
   "cell_type": "markdown",
   "metadata": {},
   "source": [
    "*Coluna address.*"
   ]
  },
  {
   "cell_type": "code",
   "execution_count": 15,
   "metadata": {},
   "outputs": [
    {
     "data": {
      "text/plain": [
       "8517"
      ]
     },
     "execution_count": 15,
     "metadata": {},
     "output_type": "execute_result"
    }
   ],
   "source": [
    "df.address.value_counts()\n",
    "len(df.address.value_counts())"
   ]
  },
  {
   "cell_type": "markdown",
   "metadata": {},
   "source": [
    "*Muitos valores únicos nos endereços.*\n",
    "\n",
    "*Iremos transformar os endereços para lower case.*"
   ]
  },
  {
   "cell_type": "code",
   "execution_count": 16,
   "metadata": {},
   "outputs": [
    {
     "data": {
      "text/plain": [
       "3607 trousdale pkwy            11\n",
       "135 n grand ave                10\n",
       "400 world way                   9\n",
       "5151 state university dr        9\n",
       "600 world way                   9\n",
       "                               ..\n",
       "12746 jefferson blvd            1\n",
       "3600 wilshire blvd ste 100b     1\n",
       "308 westwood plz ste a260       1\n",
       "6333 w 3rd st ste e-11          1\n",
       "1300 s san pedro st ste 111     1\n",
       "Name: address, Length: 8513, dtype: int64"
      ]
     },
     "execution_count": 16,
     "metadata": {},
     "output_type": "execute_result"
    }
   ],
   "source": [
    "df.address = df.address.str.lower()\n",
    "df.address.value_counts()"
   ]
  },
  {
   "cell_type": "markdown",
   "metadata": {},
   "source": [
    "*Mesmo processo com a coluna name.*"
   ]
  },
  {
   "cell_type": "code",
   "execution_count": 17,
   "metadata": {},
   "outputs": [
    {
     "data": {
      "text/plain": [
       "8672"
      ]
     },
     "execution_count": 17,
     "metadata": {},
     "output_type": "execute_result"
    }
   ],
   "source": [
    "len(df.name.value_counts())"
   ]
  },
  {
   "cell_type": "code",
   "execution_count": 18,
   "metadata": {},
   "outputs": [
    {
     "data": {
      "text/plain": [
       "the coffee bean & tea leaf    47\n",
       "subway                        31\n",
       "domino's pizza                15\n",
       "kentucky fried chicken        14\n",
       "waba grill                    14\n",
       "                              ..\n",
       "bamboo inn                     1\n",
       "el carmen                      1\n",
       "cole's                         1\n",
       "h & h catering pool bar        1\n",
       "cafe sprouts                   1\n",
       "Name: name, Length: 8672, dtype: int64"
      ]
     },
     "execution_count": 18,
     "metadata": {},
     "output_type": "execute_result"
    }
   ],
   "source": [
    "df.name = df.name.str.lower()\n",
    "df.name.value_counts()"
   ]
  },
  {
   "cell_type": "markdown",
   "metadata": {},
   "source": [
    "*Para finalizar a etapa de tratemento e limpeza, vamos gerar um histograma de type.*\n",
    "\n",
    "*E uma overview da nossa análise.*"
   ]
  },
  {
   "cell_type": "code",
   "execution_count": 19,
   "metadata": {},
   "outputs": [
    {
     "data": {
      "image/png": "[encoded data removed]",
      "text/plain": [
       "<Figure size 1200x600 with 1 Axes>"
      ]
     },
     "metadata": {},
     "output_type": "display_data"
    }
   ],
   "source": [
    "# plotando\n",
    "sns.set(style=\"whitegrid\")\n",
    "plt.figure(figsize=(12, 6))\n",
    "sns.barplot(x=df.type.value_counts(), y=df.type.value_counts().index, color=\"lightblue\")\n",
    "\n",
    "plt.title('Números de Restaurantes por Tipo')\n",
    "plt.xlabel('Frequência')\n",
    "plt.show()"
   ]
  },
  {
   "cell_type": "markdown",
   "metadata": {},
   "source": [
    "***Overview:***\n",
    "- *Nosso dataframe possui 6 colunas e 9651 linhas*\n",
    "- *Não tínhamos duplicados*\n",
    "- *Valores nulos mínimos, e os substituímos pela moda na coluna chain*\n",
    "- *Simplificamos os nomes das colunas*\n",
    "- *Percebemos que seria melhor transformar os dados das colunas name e type para lower case*\n",
    "- *Finalizamos a etapa de tratamento e limpeza com um gráfico de barras onde verificamos a distribuição dos tipos de restaurantes*"
   ]
  },
  {
   "cell_type": "markdown",
   "metadata": {},
   "source": [
    "# *Iniciando Análise exploratória de Dados - EDA*"
   ]
  },
  {
   "cell_type": "markdown",
   "metadata": {},
   "source": [
    "### *1. Análise das Proporções de Tipos de Estabelecimentos*"
   ]
  },
  {
   "cell_type": "markdown",
   "metadata": {},
   "source": [
    "*Recordando nossos dados.*"
   ]
  },
  {
   "cell_type": "code",
   "execution_count": 20,
   "metadata": {},
   "outputs": [
    {
     "data": {
      "text/html": [
       "<div>\n",
       "<style scoped>\n",
       "    .dataframe tbody tr th:only-of-type {\n",
       "        vertical-align: middle;\n",
       "    }\n",
       "\n",
       "    .dataframe tbody tr th {\n",
       "        vertical-align: top;\n",
       "    }\n",
       "\n",
       "    .dataframe thead th {\n",
       "        text-align: right;\n",
       "    }\n",
       "</style>\n",
       "<table border=\"1\" class=\"dataframe\">\n",
       "  <thead>\n",
       "    <tr style=\"text-align: right;\">\n",
       "      <th></th>\n",
       "      <th>id</th>\n",
       "      <th>name</th>\n",
       "      <th>address</th>\n",
       "      <th>chain</th>\n",
       "      <th>type</th>\n",
       "      <th>number</th>\n",
       "    </tr>\n",
       "  </thead>\n",
       "  <tbody>\n",
       "    <tr>\n",
       "      <th>0</th>\n",
       "      <td>11786</td>\n",
       "      <td>habitat coffee shop</td>\n",
       "      <td>3708 n eagle rock blvd</td>\n",
       "      <td>False</td>\n",
       "      <td>Cafe</td>\n",
       "      <td>26</td>\n",
       "    </tr>\n",
       "    <tr>\n",
       "      <th>1</th>\n",
       "      <td>11787</td>\n",
       "      <td>reilly's</td>\n",
       "      <td>100 world way # 120</td>\n",
       "      <td>False</td>\n",
       "      <td>Restaurant</td>\n",
       "      <td>9</td>\n",
       "    </tr>\n",
       "    <tr>\n",
       "      <th>2</th>\n",
       "      <td>11788</td>\n",
       "      <td>street churros</td>\n",
       "      <td>6801 hollywood blvd # 253</td>\n",
       "      <td>False</td>\n",
       "      <td>Fast Food</td>\n",
       "      <td>20</td>\n",
       "    </tr>\n",
       "    <tr>\n",
       "      <th>3</th>\n",
       "      <td>11789</td>\n",
       "      <td>triniti echo park</td>\n",
       "      <td>1814 w sunset blvd</td>\n",
       "      <td>False</td>\n",
       "      <td>Restaurant</td>\n",
       "      <td>22</td>\n",
       "    </tr>\n",
       "    <tr>\n",
       "      <th>4</th>\n",
       "      <td>11790</td>\n",
       "      <td>pollen</td>\n",
       "      <td>2100 echo park ave</td>\n",
       "      <td>False</td>\n",
       "      <td>Restaurant</td>\n",
       "      <td>20</td>\n",
       "    </tr>\n",
       "  </tbody>\n",
       "</table>\n",
       "</div>"
      ],
      "text/plain": [
       "      id                 name                    address  chain        type  \\\n",
       "0  11786  habitat coffee shop     3708 n eagle rock blvd  False        Cafe   \n",
       "1  11787             reilly's        100 world way # 120  False  Restaurant   \n",
       "2  11788       street churros  6801 hollywood blvd # 253  False   Fast Food   \n",
       "3  11789    triniti echo park         1814 w sunset blvd  False  Restaurant   \n",
       "4  11790               pollen         2100 echo park ave  False  Restaurant   \n",
       "\n",
       "   number  \n",
       "0      26  \n",
       "1       9  \n",
       "2      20  \n",
       "3      22  \n",
       "4      20  "
      ]
     },
     "execution_count": 20,
     "metadata": {},
     "output_type": "execute_result"
    }
   ],
   "source": [
    "df.head()"
   ]
  },
  {
   "cell_type": "markdown",
   "metadata": {},
   "source": [
    "*Vamos calcular as proporções dos tipos de estabelecimentos.*"
   ]
  },
  {
   "cell_type": "code",
   "execution_count": 21,
   "metadata": {},
   "outputs": [
    {
     "name": "stdout",
     "output_type": "stream",
     "text": [
      "Restaurant    75.2\n",
      "Fast Food     11.0\n",
      "Cafe           4.5\n",
      "Pizza          3.3\n",
      "Bar            3.0\n",
      "Bakery         2.9\n",
      "Name: type, dtype: float64\n"
     ]
    }
   ],
   "source": [
    "type_counts = df['type'].value_counts()\n",
    "prop_type = type_counts / type_counts.sum()\n",
    "\n",
    "print(round(prop_type * 100, 1))"
   ]
  },
  {
   "cell_type": "markdown",
   "metadata": {},
   "source": [
    "*A análise revela que a maioria dos estabelecimentos na lista são ***restaurantes***, com 75.2%, seguidos por ***fast food*** (11.0%), ***cafés*** (4.5%), ***pizzarias*** (3.3%), ***bares*** (3.0%) e ***padarias*** (2.9%).*\n",
    "\n",
    "*Vamos visualizar gráficamente com barras.*"
   ]
  },
  {
   "cell_type": "code",
   "execution_count": 22,
   "metadata": {},
   "outputs": [
    {
     "data": {
      "image/png": "[encoded data removed]",
      "text/plain": [
       "<Figure size 1200x600 with 1 Axes>"
      ]
     },
     "metadata": {},
     "output_type": "display_data"
    }
   ],
   "source": [
    "sns.set(style=\"whitegrid\")\n",
    "plt.figure(figsize=(12, 6))\n",
    "\n",
    "sns.barplot(x=prop_type.index, y=prop_type.values * 100, color='lightblue')\n",
    "plt.ylabel('Percentual (%)')\n",
    "plt.title('Distribuição Percentual de Tipos de Estabelecimentos')\n",
    "plt.show()"
   ]
  },
  {
   "cell_type": "markdown",
   "metadata": {},
   "source": [
    "### *2. Análise das Proporções de Estabelecimentos de Rede e Não Rede*"
   ]
  },
  {
   "cell_type": "markdown",
   "metadata": {},
   "source": [
    "*Vamos realizar os nossos cálculos.*"
   ]
  },
  {
   "cell_type": "code",
   "execution_count": 23,
   "metadata": {},
   "outputs": [
    {
     "name": "stdout",
     "output_type": "stream",
     "text": [
      "False    61.9\n",
      "True     38.1\n",
      "Name: chain, dtype: float64\n"
     ]
    }
   ],
   "source": [
    "prop_chain = df['chain'].value_counts()\n",
    "prop_chain = prop_chain / prop_chain.sum()\n",
    "\n",
    "print(round(prop_chain * 100, 1))"
   ]
  },
  {
   "cell_type": "markdown",
   "metadata": {},
   "source": [
    "*Contando as proporções de estabelecimentos de rede e não rede, obtivemos 61,9% ***Não Rede*** e 38,1% são estabelecimentos pertencentes a uma determinada ***Rede***.*\n",
    "\n",
    "*Iremos plotar em barras a comparação.*"
   ]
  },
  {
   "cell_type": "code",
   "execution_count": 24,
   "metadata": {},
   "outputs": [
    {
     "data": {
      "image/png": "[encoded data removed]",
      "text/plain": [
       "<Figure size 600x600 with 1 Axes>"
      ]
     },
     "metadata": {},
     "output_type": "display_data"
    }
   ],
   "source": [
    "sns.set(style=\"whitegrid\")\n",
    "plt.figure(figsize=(6, 6))\n",
    "sns.set_palette(\"pastel\")\n",
    "sns.barplot(x=prop_chain.index, y=prop_chain.values * 100)\n",
    "\n",
    "plt.xlabel('É uma Rede')\n",
    "plt.ylabel('Percentual (%)')\n",
    "plt.title('Proporções de Estabelecimentos de Rede e Não Rede')\n",
    "plt.show()"
   ]
  },
  {
   "cell_type": "markdown",
   "metadata": {},
   "source": [
    "### *3. Análise do Tipo de Estabelecimento Típico para Redes*"
   ]
  },
  {
   "cell_type": "markdown",
   "metadata": {},
   "source": [
    "*Iremos contruir um pivot table.*"
   ]
  },
  {
   "cell_type": "code",
   "execution_count": 25,
   "metadata": {},
   "outputs": [
    {
     "data": {
      "text/html": [
       "<div>\n",
       "<style scoped>\n",
       "    .dataframe tbody tr th:only-of-type {\n",
       "        vertical-align: middle;\n",
       "    }\n",
       "\n",
       "    .dataframe tbody tr th {\n",
       "        vertical-align: top;\n",
       "    }\n",
       "\n",
       "    .dataframe thead th {\n",
       "        text-align: right;\n",
       "    }\n",
       "</style>\n",
       "<table border=\"1\" class=\"dataframe\">\n",
       "  <thead>\n",
       "    <tr style=\"text-align: right;\">\n",
       "      <th></th>\n",
       "      <th></th>\n",
       "      <th>id</th>\n",
       "    </tr>\n",
       "    <tr>\n",
       "      <th>chain</th>\n",
       "      <th>type</th>\n",
       "      <th></th>\n",
       "    </tr>\n",
       "  </thead>\n",
       "  <tbody>\n",
       "    <tr>\n",
       "      <th rowspan=\"5\" valign=\"top\">False</th>\n",
       "      <th>Bar</th>\n",
       "      <td>215</td>\n",
       "    </tr>\n",
       "    <tr>\n",
       "      <th>Cafe</th>\n",
       "      <td>169</td>\n",
       "    </tr>\n",
       "    <tr>\n",
       "      <th>Fast Food</th>\n",
       "      <td>461</td>\n",
       "    </tr>\n",
       "    <tr>\n",
       "      <th>Pizza</th>\n",
       "      <td>167</td>\n",
       "    </tr>\n",
       "    <tr>\n",
       "      <th>Restaurant</th>\n",
       "      <td>4963</td>\n",
       "    </tr>\n",
       "    <tr>\n",
       "      <th rowspan=\"6\" valign=\"top\">True</th>\n",
       "      <th>Bakery</th>\n",
       "      <td>283</td>\n",
       "    </tr>\n",
       "    <tr>\n",
       "      <th>Bar</th>\n",
       "      <td>77</td>\n",
       "    </tr>\n",
       "    <tr>\n",
       "      <th>Cafe</th>\n",
       "      <td>266</td>\n",
       "    </tr>\n",
       "    <tr>\n",
       "      <th>Fast Food</th>\n",
       "      <td>605</td>\n",
       "    </tr>\n",
       "    <tr>\n",
       "      <th>Pizza</th>\n",
       "      <td>153</td>\n",
       "    </tr>\n",
       "    <tr>\n",
       "      <th>Restaurant</th>\n",
       "      <td>2292</td>\n",
       "    </tr>\n",
       "  </tbody>\n",
       "</table>\n",
       "</div>"
      ],
      "text/plain": [
       "                    id\n",
       "chain type            \n",
       "False Bar          215\n",
       "      Cafe         169\n",
       "      Fast Food    461\n",
       "      Pizza        167\n",
       "      Restaurant  4963\n",
       "True  Bakery       283\n",
       "      Bar           77\n",
       "      Cafe         266\n",
       "      Fast Food    605\n",
       "      Pizza        153\n",
       "      Restaurant  2292"
      ]
     },
     "execution_count": 25,
     "metadata": {},
     "output_type": "execute_result"
    }
   ],
   "source": [
    "chain_pivot = df[['chain','type','id']]\n",
    "chain_pivot = pd.pivot_table(chain_pivot,index=['chain','type'], values='id', aggfunc='count')\n",
    "\n",
    "chain_pivot"
   ]
  },
  {
   "cell_type": "markdown",
   "metadata": {},
   "source": [
    "*Existem quase 5 mil ***Restaurantes*** que não pertencem a nenhuma rede. ***Pizzarias*** mantém-se bem distribuídas, já um fato bem interessante, é que todas as padarias ***(Bakery)*** pertencem a alguma rede.*\n",
    "\n",
    "*Através do gráfico abaixo poderemos visualizar melhor.*"
   ]
  },
  {
   "cell_type": "code",
   "execution_count": 26,
   "metadata": {},
   "outputs": [
    {
     "data": {
      "image/png": "[encoded data removed]",
      "text/plain": [
       "<Figure size 1200x600 with 1 Axes>"
      ]
     },
     "metadata": {},
     "output_type": "display_data"
    }
   ],
   "source": [
    "plt.figure(figsize=(12, 6))\n",
    "sns.countplot(data=df, x='type', hue='chain')\n",
    "\n",
    "plt.xlabel('Tipo de Estabelecimento')\n",
    "plt.ylabel('Contagem')\n",
    "plt.title('Contagem de Estabelecimentos de Rede e Não Rede por Tipo')\n",
    "\n",
    "plt.legend(labels=['Não Rede', 'Rede'])\n",
    "plt.show()"
   ]
  },
  {
   "cell_type": "markdown",
   "metadata": {},
   "source": [
    "***Entendemos que:***\n",
    "- ****Cafe*** e ***Fast Food*** tem mais estabelecimentos de Rede*\n",
    "- ***Restaurant*** de Não Rede possuem mais do que o dobro de ***Restaurant*** de Rede*\n",
    "- ****Bakery*** só tem estabelecimentos de Rede em LA*"
   ]
  },
  {
   "cell_type": "markdown",
   "metadata": {},
   "source": [
    "### *4. Qual é a característica distintiva das redes de estabelecimentos: muitos locais com poucos assentos ou poucos locais com muitos assentos?*"
   ]
  },
  {
   "cell_type": "markdown",
   "metadata": {},
   "source": [
    "*Relembrando dados.*"
   ]
  },
  {
   "cell_type": "code",
   "execution_count": 27,
   "metadata": {},
   "outputs": [
    {
     "data": {
      "text/html": [
       "<div>\n",
       "<style scoped>\n",
       "    .dataframe tbody tr th:only-of-type {\n",
       "        vertical-align: middle;\n",
       "    }\n",
       "\n",
       "    .dataframe tbody tr th {\n",
       "        vertical-align: top;\n",
       "    }\n",
       "\n",
       "    .dataframe thead th {\n",
       "        text-align: right;\n",
       "    }\n",
       "</style>\n",
       "<table border=\"1\" class=\"dataframe\">\n",
       "  <thead>\n",
       "    <tr style=\"text-align: right;\">\n",
       "      <th></th>\n",
       "      <th>id</th>\n",
       "      <th>name</th>\n",
       "      <th>address</th>\n",
       "      <th>chain</th>\n",
       "      <th>type</th>\n",
       "      <th>number</th>\n",
       "    </tr>\n",
       "  </thead>\n",
       "  <tbody>\n",
       "    <tr>\n",
       "      <th>0</th>\n",
       "      <td>11786</td>\n",
       "      <td>habitat coffee shop</td>\n",
       "      <td>3708 n eagle rock blvd</td>\n",
       "      <td>False</td>\n",
       "      <td>Cafe</td>\n",
       "      <td>26</td>\n",
       "    </tr>\n",
       "    <tr>\n",
       "      <th>1</th>\n",
       "      <td>11787</td>\n",
       "      <td>reilly's</td>\n",
       "      <td>100 world way # 120</td>\n",
       "      <td>False</td>\n",
       "      <td>Restaurant</td>\n",
       "      <td>9</td>\n",
       "    </tr>\n",
       "    <tr>\n",
       "      <th>2</th>\n",
       "      <td>11788</td>\n",
       "      <td>street churros</td>\n",
       "      <td>6801 hollywood blvd # 253</td>\n",
       "      <td>False</td>\n",
       "      <td>Fast Food</td>\n",
       "      <td>20</td>\n",
       "    </tr>\n",
       "    <tr>\n",
       "      <th>3</th>\n",
       "      <td>11789</td>\n",
       "      <td>triniti echo park</td>\n",
       "      <td>1814 w sunset blvd</td>\n",
       "      <td>False</td>\n",
       "      <td>Restaurant</td>\n",
       "      <td>22</td>\n",
       "    </tr>\n",
       "    <tr>\n",
       "      <th>4</th>\n",
       "      <td>11790</td>\n",
       "      <td>pollen</td>\n",
       "      <td>2100 echo park ave</td>\n",
       "      <td>False</td>\n",
       "      <td>Restaurant</td>\n",
       "      <td>20</td>\n",
       "    </tr>\n",
       "  </tbody>\n",
       "</table>\n",
       "</div>"
      ],
      "text/plain": [
       "      id                 name                    address  chain        type  \\\n",
       "0  11786  habitat coffee shop     3708 n eagle rock blvd  False        Cafe   \n",
       "1  11787             reilly's        100 world way # 120  False  Restaurant   \n",
       "2  11788       street churros  6801 hollywood blvd # 253  False   Fast Food   \n",
       "3  11789    triniti echo park         1814 w sunset blvd  False  Restaurant   \n",
       "4  11790               pollen         2100 echo park ave  False  Restaurant   \n",
       "\n",
       "   number  \n",
       "0      26  \n",
       "1       9  \n",
       "2      20  \n",
       "3      22  \n",
       "4      20  "
      ]
     },
     "execution_count": 27,
     "metadata": {},
     "output_type": "execute_result"
    }
   ],
   "source": [
    "df.head()"
   ]
  },
  {
   "cell_type": "markdown",
   "metadata": {},
   "source": [
    "*Iremos realizar alguns filtros para chegar na informação.*"
   ]
  },
  {
   "cell_type": "code",
   "execution_count": 28,
   "metadata": {},
   "outputs": [
    {
     "data": {
      "text/html": [
       "<div>\n",
       "<style scoped>\n",
       "    .dataframe tbody tr th:only-of-type {\n",
       "        vertical-align: middle;\n",
       "    }\n",
       "\n",
       "    .dataframe tbody tr th {\n",
       "        vertical-align: top;\n",
       "    }\n",
       "\n",
       "    .dataframe thead th {\n",
       "        text-align: right;\n",
       "    }\n",
       "</style>\n",
       "<table border=\"1\" class=\"dataframe\">\n",
       "  <thead>\n",
       "    <tr style=\"text-align: right;\">\n",
       "      <th></th>\n",
       "      <th>id</th>\n",
       "      <th>chain</th>\n",
       "      <th>number</th>\n",
       "    </tr>\n",
       "  </thead>\n",
       "  <tbody>\n",
       "    <tr>\n",
       "      <th>8</th>\n",
       "      <td>11794</td>\n",
       "      <td>True</td>\n",
       "      <td>1</td>\n",
       "    </tr>\n",
       "    <tr>\n",
       "      <th>10</th>\n",
       "      <td>11796</td>\n",
       "      <td>True</td>\n",
       "      <td>38</td>\n",
       "    </tr>\n",
       "    <tr>\n",
       "      <th>11</th>\n",
       "      <td>11797</td>\n",
       "      <td>True</td>\n",
       "      <td>17</td>\n",
       "    </tr>\n",
       "    <tr>\n",
       "      <th>12</th>\n",
       "      <td>11798</td>\n",
       "      <td>True</td>\n",
       "      <td>133</td>\n",
       "    </tr>\n",
       "    <tr>\n",
       "      <th>14</th>\n",
       "      <td>11800</td>\n",
       "      <td>True</td>\n",
       "      <td>26</td>\n",
       "    </tr>\n",
       "  </tbody>\n",
       "</table>\n",
       "</div>"
      ],
      "text/plain": [
       "       id  chain  number\n",
       "8   11794   True       1\n",
       "10  11796   True      38\n",
       "11  11797   True      17\n",
       "12  11798   True     133\n",
       "14  11800   True      26"
      ]
     },
     "execution_count": 28,
     "metadata": {},
     "output_type": "execute_result"
    }
   ],
   "source": [
    "df_chain_seats = df[['id', 'chain', 'number']]\n",
    "df_chain_seats = df_chain_seats.loc[df_chain_seats['chain'] == True]\n",
    "\n",
    "\n",
    "df_chain_seats.head()"
   ]
  },
  {
   "cell_type": "markdown",
   "metadata": {},
   "source": [
    "*Agora que temos somente os dados pertinentes para responder a nossa questão.*\n",
    "\n",
    "*Separando algumas métricas de assentos.*"
   ]
  },
  {
   "cell_type": "code",
   "execution_count": 29,
   "metadata": {},
   "outputs": [
    {
     "name": "stdout",
     "output_type": "stream",
     "text": [
      "Estabelecimentos de Rede:\n",
      "Média de assentos -> 40.0\n",
      "Mediana de assentos -> 25.0\n",
      "Somatório de assentos -> 145916\n"
     ]
    }
   ],
   "source": [
    "mean = df_chain_seats.number.mean()\n",
    "median = df_chain_seats.number.median()\n",
    "sum = df_chain_seats.number.sum()\n",
    "\n",
    "print('Estabelecimentos de Rede:')\n",
    "print(f'Média de assentos -> {mean.round()}')\n",
    "print(f'Mediana de assentos -> {median}')\n",
    "print(f'Somatório de assentos -> {sum}')"
   ]
  },
  {
   "cell_type": "markdown",
   "metadata": {},
   "source": [
    "*Com média de assentos de 40.0 e mediana de 25.0, a distribuição sugere assimetria e somatório total de assentos é de 145916.*"
   ]
  },
  {
   "cell_type": "code",
   "execution_count": 30,
   "metadata": {},
   "outputs": [
    {
     "data": {
      "image/png": "[encoded data removed]",
      "text/plain": [
       "<Figure size 1200x600 with 1 Axes>"
      ]
     },
     "metadata": {},
     "output_type": "display_data"
    }
   ],
   "source": [
    "sns.set(style=\"whitegrid\")\n",
    "plt.figure(figsize=(12, 6))\n",
    "sns.histplot(df_chain_seats['number'], bins=24, color='lightblue', alpha=.96)\n",
    "\n",
    "plt.title('Distribuição de Assentos em Estabelecimentos de Rede')\n",
    "plt.xlabel('Número de Assentos')\n",
    "plt.ylabel('Frequência')\n",
    "plt.show()"
   ]
  },
  {
   "cell_type": "markdown",
   "metadata": {},
   "source": [
    "*Definitivamente há uma divisão acima e abaixo de aproximadamente 50 assentos.*\n",
    "\n",
    "*Vamos ver em porcentagens, filtrando por estabelecimentos com número de assentos igual ou menor que 50.*"
   ]
  },
  {
   "cell_type": "code",
   "execution_count": 110,
   "metadata": {},
   "outputs": [
    {
     "data": {
      "text/plain": [
       "0.8250816104461371"
      ]
     },
     "execution_count": 110,
     "metadata": {},
     "output_type": "execute_result"
    }
   ],
   "source": [
    "less_than_50_seats = df_chain_seats.loc[df_chain_seats['number'] <= 50].count()\n",
    "less_than_50_seats = less_than_50_seats[1]\n",
    "\n",
    "prop = less_than_50_seats / df_chain_seats.shape[0]\n",
    "prop"
   ]
  },
  {
   "cell_type": "code",
   "execution_count": 112,
   "metadata": {},
   "outputs": [
    {
     "data": {
      "image/png": "[encoded data removed]",
      "text/plain": [
       "<Figure size 600x600 with 1 Axes>"
      ]
     },
     "metadata": {},
     "output_type": "display_data"
    }
   ],
   "source": [
    "explode = (0.06, 0)\n",
    "colors = ['lightblue', 'lightcoral']\n",
    "\n",
    "plt.figure(figsize=(6, 6))\n",
    "sns.set(style=\"whitegrid\")\n",
    "plt.pie([prop, 1 - prop], labels=['Menos de 50 Assentos', '50 Assentos ou Mais'],\n",
    "        autopct='%1.1f%%', startangle=93, explode=explode, colors=colors)\n",
    "\n",
    "plt.title('Proporção de Estabelecimentos com Menos de 50 Assentos')\n",
    "plt.show()"
   ]
  },
  {
   "cell_type": "markdown",
   "metadata": {},
   "source": [
    "*A característica distintiva das redes de estabelecimentos parece ser a predominância de muitos locais com poucos assentos, uma observação que é reforçada pelos gráficos gerados durante a análise.*\n"
   ]
  },
  {
   "cell_type": "markdown",
   "metadata": {},
   "source": [
    "### *5. Análise da Média de Assentos por Tipo de Restaurante e quais deles apresentem o maior número de assentos.*"
   ]
  },
  {
   "cell_type": "markdown",
   "metadata": {},
   "source": [
    "*Calculando a média geral.*"
   ]
  },
  {
   "cell_type": "code",
   "execution_count": 33,
   "metadata": {},
   "outputs": [
    {
     "data": {
      "text/plain": [
       "43.69516112319967"
      ]
     },
     "execution_count": 33,
     "metadata": {},
     "output_type": "execute_result"
    }
   ],
   "source": [
    "df.number.mean()"
   ]
  },
  {
   "cell_type": "markdown",
   "metadata": {},
   "source": [
    "*Para conseguirmos essa métrica, realizaremos um groupby.*"
   ]
  },
  {
   "cell_type": "code",
   "execution_count": 34,
   "metadata": {},
   "outputs": [
    {
     "data": {
      "text/plain": [
       "type\n",
       "Restaurant    48.042316\n",
       "Bar           44.767123\n",
       "Fast Food     31.837711\n",
       "Pizza         28.459375\n",
       "Cafe          25.000000\n",
       "Bakery        21.773852\n",
       "Name: number, dtype: float64"
      ]
     },
     "execution_count": 34,
     "metadata": {},
     "output_type": "execute_result"
    }
   ],
   "source": [
    "average_seats_by_restaurant_type = df.groupby('type')['number'].mean()\n",
    "average_seats_by_restaurant_type.sort_values(ascending=False)"
   ]
  },
  {
   "cell_type": "markdown",
   "metadata": {},
   "source": [
    "****Restaurantes*** e ***Bares*** apresentam dados acima da média de assentos que é de 43.*\n",
    "\n",
    "*Demais estabelecimentos ficam abaixo, sendo ***padarias*** e ***cafes*** os que possuem as menores médias.*"
   ]
  },
  {
   "cell_type": "code",
   "execution_count": 35,
   "metadata": {},
   "outputs": [
    {
     "data": {
      "text/plain": [
       "229"
      ]
     },
     "execution_count": 35,
     "metadata": {},
     "output_type": "execute_result"
    }
   ],
   "source": [
    "# máximo de assentos\n",
    "df.number.max()"
   ]
  },
  {
   "cell_type": "code",
   "execution_count": 36,
   "metadata": {},
   "outputs": [
    {
     "data": {
      "text/html": [
       "<div>\n",
       "<style scoped>\n",
       "    .dataframe tbody tr th:only-of-type {\n",
       "        vertical-align: middle;\n",
       "    }\n",
       "\n",
       "    .dataframe tbody tr th {\n",
       "        vertical-align: top;\n",
       "    }\n",
       "\n",
       "    .dataframe thead th {\n",
       "        text-align: right;\n",
       "    }\n",
       "</style>\n",
       "<table border=\"1\" class=\"dataframe\">\n",
       "  <thead>\n",
       "    <tr style=\"text-align: right;\">\n",
       "      <th></th>\n",
       "      <th>id</th>\n",
       "      <th>name</th>\n",
       "      <th>address</th>\n",
       "      <th>chain</th>\n",
       "      <th>type</th>\n",
       "      <th>number</th>\n",
       "    </tr>\n",
       "  </thead>\n",
       "  <tbody>\n",
       "    <tr>\n",
       "      <th>475</th>\n",
       "      <td>12261</td>\n",
       "      <td>mountaingate country club</td>\n",
       "      <td>12445 mountain gate dr</td>\n",
       "      <td>True</td>\n",
       "      <td>Restaurant</td>\n",
       "      <td>229</td>\n",
       "    </tr>\n",
       "    <tr>\n",
       "      <th>594</th>\n",
       "      <td>12380</td>\n",
       "      <td>kabuki japanese restaurant</td>\n",
       "      <td>1545 n vine st</td>\n",
       "      <td>True</td>\n",
       "      <td>Restaurant</td>\n",
       "      <td>229</td>\n",
       "    </tr>\n",
       "    <tr>\n",
       "      <th>3277</th>\n",
       "      <td>15063</td>\n",
       "      <td>american jewish university</td>\n",
       "      <td>15600 mulhooland dr</td>\n",
       "      <td>False</td>\n",
       "      <td>Restaurant</td>\n",
       "      <td>229</td>\n",
       "    </tr>\n",
       "    <tr>\n",
       "      <th>3495</th>\n",
       "      <td>15281</td>\n",
       "      <td>usc university club</td>\n",
       "      <td>705 w 34th st</td>\n",
       "      <td>False</td>\n",
       "      <td>Restaurant</td>\n",
       "      <td>229</td>\n",
       "    </tr>\n",
       "    <tr>\n",
       "      <th>4626</th>\n",
       "      <td>16412</td>\n",
       "      <td>playhouse</td>\n",
       "      <td>6506 hollywood blvd</td>\n",
       "      <td>False</td>\n",
       "      <td>Restaurant</td>\n",
       "      <td>229</td>\n",
       "    </tr>\n",
       "    <tr>\n",
       "      <th>4854</th>\n",
       "      <td>16640</td>\n",
       "      <td>wokcano downtown l.a.</td>\n",
       "      <td>800 w 7th st</td>\n",
       "      <td>False</td>\n",
       "      <td>Restaurant</td>\n",
       "      <td>229</td>\n",
       "    </tr>\n",
       "    <tr>\n",
       "      <th>5091</th>\n",
       "      <td>16877</td>\n",
       "      <td>boulevard 3</td>\n",
       "      <td>6523 w sunset blvd</td>\n",
       "      <td>False</td>\n",
       "      <td>Restaurant</td>\n",
       "      <td>229</td>\n",
       "    </tr>\n",
       "    <tr>\n",
       "      <th>7383</th>\n",
       "      <td>19169</td>\n",
       "      <td>manna korean bbq</td>\n",
       "      <td>3986 wilshire blvd</td>\n",
       "      <td>True</td>\n",
       "      <td>Restaurant</td>\n",
       "      <td>229</td>\n",
       "    </tr>\n",
       "    <tr>\n",
       "      <th>8699</th>\n",
       "      <td>20485</td>\n",
       "      <td>vibiana</td>\n",
       "      <td>210 s main st</td>\n",
       "      <td>False</td>\n",
       "      <td>Restaurant</td>\n",
       "      <td>229</td>\n",
       "    </tr>\n",
       "  </tbody>\n",
       "</table>\n",
       "</div>"
      ],
      "text/plain": [
       "         id                        name                 address  chain  \\\n",
       "475   12261   mountaingate country club  12445 mountain gate dr   True   \n",
       "594   12380  kabuki japanese restaurant          1545 n vine st   True   \n",
       "3277  15063  american jewish university     15600 mulhooland dr  False   \n",
       "3495  15281         usc university club           705 w 34th st  False   \n",
       "4626  16412                   playhouse     6506 hollywood blvd  False   \n",
       "4854  16640       wokcano downtown l.a.            800 w 7th st  False   \n",
       "5091  16877                 boulevard 3      6523 w sunset blvd  False   \n",
       "7383  19169            manna korean bbq      3986 wilshire blvd   True   \n",
       "8699  20485                     vibiana           210 s main st  False   \n",
       "\n",
       "            type  number  \n",
       "475   Restaurant     229  \n",
       "594   Restaurant     229  \n",
       "3277  Restaurant     229  \n",
       "3495  Restaurant     229  \n",
       "4626  Restaurant     229  \n",
       "4854  Restaurant     229  \n",
       "5091  Restaurant     229  \n",
       "7383  Restaurant     229  \n",
       "8699  Restaurant     229  "
      ]
     },
     "execution_count": 36,
     "metadata": {},
     "output_type": "execute_result"
    }
   ],
   "source": [
    "# verificando qual tipo\n",
    "df.loc[df['number'] == df.number.max()]"
   ]
  },
  {
   "cell_type": "markdown",
   "metadata": {},
   "source": [
    "*Todos os estabelecimentos com o máximo de assentos no nosso dataframe são do tipo ***Restaurant***.*\n",
    "\n",
    "*Vamos vizualizar as médias de assentos por tipo de estabelecimanto graficamente.*"
   ]
  },
  {
   "cell_type": "code",
   "execution_count": 37,
   "metadata": {},
   "outputs": [
    {
     "data": {
      "image/png": "[encoded data removed]",
      "text/plain": [
       "<Figure size 1500x600 with 2 Axes>"
      ]
     },
     "metadata": {},
     "output_type": "display_data"
    }
   ],
   "source": [
    "fig, axes = plt.subplots(1, 2, figsize=(15, 6))\n",
    "\n",
    "# Violin Plot\n",
    "sns.violinplot(ax=axes[0], x=df['type'], y=df['number'], palette='pastel')\n",
    "axes[0].set_title('Distribuição de Assentos por Tipo de Restaurante')\n",
    "axes[0].set_xlabel('Tipo de Restaurante')\n",
    "axes[0].set_ylabel('Número de Assentos')\n",
    "\n",
    "# Bar Plot\n",
    "sns.barplot(ax=axes[1], x=average_seats_by_restaurant_type.index, y=average_seats_by_restaurant_type.values, order=average_seats_by_restaurant_type.index, palette='pastel')\n",
    "axes[1].set_title('Média de Assentos por Tipo de Restaurante')\n",
    "axes[1].set_xlabel('Tipo de Restaurante')\n",
    "axes[1].set_ylabel('Média de Assentos')\n",
    "\n",
    "plt.tight_layout()\n",
    "plt.show()"
   ]
  },
  {
   "cell_type": "markdown",
   "metadata": {},
   "source": [
    "*Os tipos de estabelecimentos que apresentam os maiores números de assentos são os ***Restaurantes***.*\n",
    "\n",
    "****Cafes*** e ***Padarias***  são os que possuem menores médias de assentos, mas no geral, as médias variam entre 21 e 48 assentos para qualquer tipo de estabelecimento.*"
   ]
  },
  {
   "cell_type": "markdown",
   "metadata": {},
   "source": [
    "### *6. Extração de Nomes de Ruas: Organizando Dados da Coluna 'Address' em uma Nova Coluna.*"
   ]
  },
  {
   "cell_type": "markdown",
   "metadata": {},
   "source": [
    "*Pequena amostra para verificação.*"
   ]
  },
  {
   "cell_type": "code",
   "execution_count": 38,
   "metadata": {},
   "outputs": [
    {
     "data": {
      "text/plain": [
       "6325                 530 e 5th st\n",
       "344            5214 w sunset blvd\n",
       "4484        1239 s los angeles st\n",
       "1976       3277 n san fernando rd\n",
       "3050        808 s alvarado st # a\n",
       "5721           1771 westwood blvd\n",
       "5443              11780 pico blvd\n",
       "2097         1600 n cahuenga blvd\n",
       "7970    0928 s western ave # #103\n",
       "8406           1767 n vermont ave\n",
       "4277          11705 national blvd\n",
       "8211       4641 w washington blvd\n",
       "4234           11688 gateway blvd\n",
       "2471    6801 hollywood blvd # 418\n",
       "4545          2511 s san pedro st\n",
       "Name: address, dtype: object"
      ]
     },
     "execution_count": 38,
     "metadata": {},
     "output_type": "execute_result"
    }
   ],
   "source": [
    "df.address.sample(15)"
   ]
  },
  {
   "cell_type": "markdown",
   "metadata": {},
   "source": [
    "*Vamos extrair e criar uma nova coluna.*"
   ]
  },
  {
   "cell_type": "code",
   "execution_count": 39,
   "metadata": {},
   "outputs": [
    {
     "name": "stdout",
     "output_type": "stream",
     "text": [
      "                     address street_number\n",
      "0          n eagle rock blvd          3708\n",
      "1            world way # 120           100\n",
      "2       hollywood blvd # 253          6801\n",
      "3              w sunset blvd          1814\n",
      "4              echo park ave          2100\n",
      "...                      ...           ...\n",
      "9646            w temple ave           217\n",
      "9647             melrose ave          5750\n",
      "9648          hollywood blvd          6741\n",
      "9649     s spring st ste 100           548\n",
      "9650  s san pedro st ste 111          1300\n",
      "\n",
      "[9651 rows x 2 columns]\n"
     ]
    },
    {
     "name": "stderr",
     "output_type": "stream",
     "text": [
      "C:\\Users\\THIAGO NAZARIO\\AppData\\Local\\Temp\\ipykernel_8652\\144439959.py:5: FutureWarning: The default value of regex will change from True to False in a future version.\n",
      "  df['address'] = df['address'].str.replace(r'(\\d{1,5})\\s', '')\n"
     ]
    }
   ],
   "source": [
    "# extraindo\n",
    "df['street_number'] = df['address'].str.extract(r'(\\d{1,5})\\s')\n",
    "\n",
    "# substituindo os números que extraímos por uma string vazia\n",
    "df['address'] = df['address'].str.replace(r'(\\d{1,5})\\s', '')\n",
    "\n",
    "# verificando\n",
    "print(df[['address', 'street_number']])"
   ]
  },
  {
   "cell_type": "markdown",
   "metadata": {},
   "source": [
    "*Extração concluída.*"
   ]
  },
  {
   "cell_type": "markdown",
   "metadata": {},
   "source": [
    "### *7. Top 10 Ruas com Maior Número de Restaurantes: Análise Visual.*"
   ]
  },
  {
   "cell_type": "markdown",
   "metadata": {},
   "source": [
    "*Vamos já plotar um gráfico de barras com as 10 ruas com maior número de estabelecimentos.*"
   ]
  },
  {
   "cell_type": "code",
   "execution_count": 40,
   "metadata": {},
   "outputs": [
    {
     "data": {
      "image/png": "[encoded data removed]",
      "text/plain": [
       "<Figure size 1200x600 with 1 Axes>"
      ]
     },
     "metadata": {},
     "output_type": "display_data"
    }
   ],
   "source": [
    "sns.set(style=\"whitegrid\")\n",
    "plt.figure(figsize=(12, 6))\n",
    "top_10_streets = df['address'].value_counts().nlargest(10)\n",
    "sns.barplot(x=top_10_streets.values, y=top_10_streets.index, palette='pastel')\n",
    "plt.xticks()\n",
    "plt.show()"
   ]
  },
  {
   "cell_type": "markdown",
   "metadata": {},
   "source": [
    "*Encontramos duas ruas que possuem mais de 250 estabelecimentos cada.*\n",
    "- *Sunset Boulevard*\n",
    "- *Pico Boulevard*\n",
    "\n",
    "*Vamos olhar quantos ***Cafes*** & ***Bakery*** existem em cada uma delas.*"
   ]
  },
  {
   "cell_type": "code",
   "execution_count": 41,
   "metadata": {},
   "outputs": [
    {
     "data": {
      "text/plain": [
       "21"
      ]
     },
     "execution_count": 41,
     "metadata": {},
     "output_type": "execute_result"
    }
   ],
   "source": [
    "sunset_cafe = df.loc[(df['address'] == 'w sunset blvd') & (df['type'] == 'Cafe')]\n",
    "len(sunset_cafe)"
   ]
  },
  {
   "cell_type": "code",
   "execution_count": 42,
   "metadata": {},
   "outputs": [
    {
     "data": {
      "text/plain": [
       "9"
      ]
     },
     "execution_count": 42,
     "metadata": {},
     "output_type": "execute_result"
    }
   ],
   "source": [
    "sunset_bakery = df.loc[(df['address'] == 'w sunset blvd') & (df['type'] == 'Bakery')]\n",
    "len(sunset_bakery)"
   ]
  },
  {
   "cell_type": "code",
   "execution_count": 43,
   "metadata": {},
   "outputs": [
    {
     "data": {
      "text/plain": [
       "11"
      ]
     },
     "execution_count": 43,
     "metadata": {},
     "output_type": "execute_result"
    }
   ],
   "source": [
    "pico_cafe = df.loc[(df['address'] == 'w pico blvd') & (df['type'] == 'Cafe')]\n",
    "len(pico_cafe)"
   ]
  },
  {
   "cell_type": "code",
   "execution_count": 44,
   "metadata": {},
   "outputs": [
    {
     "data": {
      "text/plain": [
       "12"
      ]
     },
     "execution_count": 44,
     "metadata": {},
     "output_type": "execute_result"
    }
   ],
   "source": [
    "pico_bakery = df.loc[(df['address'] == 'w pico blvd') & (df['type'] == 'Bakery')]\n",
    "len(pico_bakery)"
   ]
  },
  {
   "cell_type": "markdown",
   "metadata": {},
   "source": [
    "*Na Boulevard Sunset temos 21 ***Cafes*** e 9 ***Bakeries***, já na ***Boulevard Pico***, 11 e 9.*"
   ]
  },
  {
   "cell_type": "markdown",
   "metadata": {},
   "source": [
    "### *8. Identificando Ruas com Apenas um Restaurante.*"
   ]
  },
  {
   "cell_type": "markdown",
   "metadata": {},
   "source": [
    "*Agrupando e contando.*"
   ]
  },
  {
   "cell_type": "code",
   "execution_count": 114,
   "metadata": {},
   "outputs": [
    {
     "name": "stdout",
     "output_type": "stream",
     "text": [
      "Ruas com exatamente 1 Estabelecimento: 2473\n"
     ]
    }
   ],
   "source": [
    "establishment_count_per_street = df.groupby('address')['id'].count().reset_index()\n",
    "establishment_count_per_street = establishment_count_per_street.sort_values(ascending=True, by='id')\n",
    "establishment_count_per_street = establishment_count_per_street.loc[establishment_count_per_street['id'] == 1]\n",
    "\n",
    "print(\"Ruas com exatamente 1 Estabelecimento:\", len(establishment_count_per_street))"
   ]
  },
  {
   "cell_type": "markdown",
   "metadata": {},
   "source": [
    "*Temos muitas ruas com apenas 1 estabelecimento.*\n",
    "\n",
    "*Vamos verificar quantas ruas tem apenas 1 estabelecimento do tipo ***Restaurant***.*"
   ]
  },
  {
   "cell_type": "code",
   "execution_count": 115,
   "metadata": {},
   "outputs": [
    {
     "name": "stdout",
     "output_type": "stream",
     "text": [
      "Ruas com exatamente 1 Restaurante: 1991\n"
     ]
    }
   ],
   "source": [
    "streets_with_one_restaurant = df[df['type'] == 'Restaurant']\n",
    "restaurant_counts = streets_with_one_restaurant['address'].value_counts()\n",
    "streets_with_one_restaurant = restaurant_counts[restaurant_counts == 1].count()\n",
    "\n",
    "print(\"Ruas com exatamente 1 Restaurante:\", streets_with_one_restaurant)"
   ]
  },
  {
   "cell_type": "markdown",
   "metadata": {},
   "source": [
    "### *9. Análise da Distribuição de Assentos em Ruas com Muitos Restaurantes: Tendências e Insights.*"
   ]
  },
  {
   "cell_type": "markdown",
   "metadata": {},
   "source": [
    "*Vamos construir um dataframe com as médias de assentos.* "
   ]
  },
  {
   "cell_type": "code",
   "execution_count": 168,
   "metadata": {},
   "outputs": [
    {
     "data": {
      "text/html": [
       "<div>\n",
       "<style scoped>\n",
       "    .dataframe tbody tr th:only-of-type {\n",
       "        vertical-align: middle;\n",
       "    }\n",
       "\n",
       "    .dataframe tbody tr th {\n",
       "        vertical-align: top;\n",
       "    }\n",
       "\n",
       "    .dataframe thead th {\n",
       "        text-align: right;\n",
       "    }\n",
       "</style>\n",
       "<table border=\"1\" class=\"dataframe\">\n",
       "  <thead>\n",
       "    <tr style=\"text-align: right;\">\n",
       "      <th></th>\n",
       "      <th>address</th>\n",
       "      <th>number_of_establishment</th>\n",
       "      <th>avg_number_of_seats</th>\n",
       "    </tr>\n",
       "  </thead>\n",
       "  <tbody>\n",
       "    <tr>\n",
       "      <th>0</th>\n",
       "      <td>1/1st st</td>\n",
       "      <td>1</td>\n",
       "      <td>32.000000</td>\n",
       "    </tr>\n",
       "    <tr>\n",
       "      <th>1</th>\n",
       "      <td>1/3rd st</td>\n",
       "      <td>1</td>\n",
       "      <td>19.000000</td>\n",
       "    </tr>\n",
       "    <tr>\n",
       "      <th>2</th>\n",
       "      <td>1/7th st</td>\n",
       "      <td>1</td>\n",
       "      <td>49.000000</td>\n",
       "    </tr>\n",
       "    <tr>\n",
       "      <th>3</th>\n",
       "      <td>1/beverly blvd</td>\n",
       "      <td>3</td>\n",
       "      <td>28.666667</td>\n",
       "    </tr>\n",
       "    <tr>\n",
       "      <th>4</th>\n",
       "      <td>1/city terrace dr</td>\n",
       "      <td>1</td>\n",
       "      <td>1.000000</td>\n",
       "    </tr>\n",
       "  </tbody>\n",
       "</table>\n",
       "</div>"
      ],
      "text/plain": [
       "             address  number_of_establishment  avg_number_of_seats\n",
       "0           1/1st st                        1            32.000000\n",
       "1           1/3rd st                        1            19.000000\n",
       "2           1/7th st                        1            49.000000\n",
       "3     1/beverly blvd                        3            28.666667\n",
       "4  1/city terrace dr                        1             1.000000"
      ]
     },
     "execution_count": 168,
     "metadata": {},
     "output_type": "execute_result"
    }
   ],
   "source": [
    "street_seating_distribution = (df\n",
    "           .groupby('address')\n",
    "           .agg({'id':'count','number':'mean'})\n",
    "           .rename(columns={'id':'number_of_establishment', 'number': 'avg_number_of_seats'})\n",
    "           .reset_index())\n",
    "\n",
    "street_seating_distribution.head()"
   ]
  },
  {
   "cell_type": "markdown",
   "metadata": {},
   "source": [
    "*Utilizando o nosso recém-criado DataFrame, exploraremos as relações por meio de um gráfico de dispersão empregando a função jointplot do Seaborn.*"
   ]
  },
  {
   "cell_type": "code",
   "execution_count": 179,
   "metadata": {},
   "outputs": [
    {
     "data": {
      "text/plain": [
       "<seaborn.axisgrid.JointGrid at 0x1d9ade1c7d0>"
      ]
     },
     "execution_count": 179,
     "metadata": {},
     "output_type": "execute_result"
    },
    {
     "data": {
      "image/png": "[encoded data removed]",
      "text/plain": [
       "<Figure size 600x600 with 3 Axes>"
      ]
     },
     "metadata": {},
     "output_type": "display_data"
    }
   ],
   "source": [
    "sns.jointplot(data=street_seating_distribution, x='number_of_establishment', y='avg_number_of_seats', kind='scatter', alpha=.87)"
   ]
  },
  {
   "cell_type": "markdown",
   "metadata": {},
   "source": [
    "*Gerando um histograma somente das médias para verificar.*"
   ]
  },
  {
   "cell_type": "code",
   "execution_count": 176,
   "metadata": {},
   "outputs": [
    {
     "data": {
      "image/png": "[encoded data removed]",
      "text/plain": [
       "<Figure size 1200x600 with 1 Axes>"
      ]
     },
     "metadata": {},
     "output_type": "display_data"
    }
   ],
   "source": [
    "plt.figure(figsize=(12, 6))\n",
    "sns.histplot(street_seating_distribution['avg_number_of_seats'], kde=True, bins=51, alpha=.66)\n",
    "plt.title('Distribuição das Médias de assentos')\n",
    "plt.ylabel('Frequência')\n",
    "plt.show()"
   ]
  },
  {
   "cell_type": "markdown",
   "metadata": {},
   "source": [
    "*Outras análises específicas para ***Cafes***.*"
   ]
  },
  {
   "cell_type": "code",
   "execution_count": 181,
   "metadata": {},
   "outputs": [
    {
     "name": "stdout",
     "output_type": "stream",
     "text": [
      "Média recomendada de assentos para cafés: 25.0\n",
      "Máximo recomendado de assentos para cafés: 143\n"
     ]
    }
   ],
   "source": [
    "recommend_mean_assentos_cafe = df[df['type'] == 'Cafe']['number'].mean()\n",
    "recommend_max_assentos_cafe = df[df['type'] == 'Cafe']['number'].max()\n",
    "\n",
    "print(f\"Média recomendada de assentos para cafés: {recommend_mean_assentos_cafe}\")\n",
    "print(f\"Máximo recomendado de assentos para cafés: {recommend_max_assentos_cafe}\")"
   ]
  },
  {
   "cell_type": "markdown",
   "metadata": {},
   "source": [
    "*Filtrando ruas com menos e mais concorrência de ***Cafes***.*"
   ]
  },
  {
   "cell_type": "code",
   "execution_count": 191,
   "metadata": {},
   "outputs": [],
   "source": [
    "# 10 ruas com menor concorrência \n",
    "streets_fewest_cafes = df[df['type'] == 'Cafe'].groupby('address').size().sort_values().head(10).index.tolist()\n",
    "\n",
    "# 10 ruas com maior concorrência\n",
    "streets_highest_cafe_competition = df[df['type'] == 'Cafe'].groupby('address').size().sort_values(ascending=False).head(10).index.tolist()"
   ]
  },
  {
   "cell_type": "markdown",
   "metadata": {},
   "source": [
    "*Imprimindo com ciclos for.*"
   ]
  },
  {
   "cell_type": "code",
   "execution_count": 192,
   "metadata": {},
   "outputs": [
    {
     "name": "stdout",
     "output_type": "stream",
     "text": [
      "10 ruas com menos cafés:\n",
      "1/city terrace dr\n",
      "s spring st ste r2\n",
      "s vermont ave ste 103\n",
      "s virgil ave # 100\n",
      "s western ave # 131\n",
      "s western ave g\n",
      "s western ave ste #145\n",
      "san julian st\n",
      "san vicente blvd # 108\n",
      "san vicente blvd ste 111\n"
     ]
    }
   ],
   "source": [
    "print(\"10 ruas com menos cafés:\")\n",
    "for street in streets_fewest_cafes:\n",
    "    print(street)"
   ]
  },
  {
   "cell_type": "code",
   "execution_count": 193,
   "metadata": {},
   "outputs": [
    {
     "name": "stdout",
     "output_type": "stream",
     "text": [
      "10 ruas com maior concorrência de cafés:\n",
      "w sunset blvd\n",
      "w pico blvd\n",
      "world way\n",
      "santa monica blvd\n",
      "hollywood blvd\n",
      "westwood blvd\n",
      "s grand ave\n",
      "beverly blvd\n",
      "w 6th st\n",
      "s figueroa st\n"
     ]
    }
   ],
   "source": [
    "print(\"10 ruas com maior concorrência de cafés:\")\n",
    "for street in streets_highest_cafe_competition:\n",
    "    print(street)"
   ]
  },
  {
   "cell_type": "markdown",
   "metadata": {},
   "source": [
    "# *Conclusão Final*"
   ]
  },
  {
   "cell_type": "markdown",
   "metadata": {},
   "source": [
    "*Encerramos nossa análise com confiança na singularidade da nossa cafeteria inovadora em Los Angeles.*\n",
    "\n",
    "*Nossa pesquisa nos dados de restaurantes em LA revelou oportunidades e desafios, mas vamos listar algumas recomendações abaixo.*"
   ]
  },
  {
   "cell_type": "markdown",
   "metadata": {},
   "source": [
    "#### *Recomendações para a Escolha do Tipo mais Adequado de Restaurante.*"
   ]
  },
  {
   "cell_type": "markdown",
   "metadata": {},
   "source": [
    "*É aconselhável explorar a possibilidade de estabelecer restaurantes independentes, uma vez que compõem uma parcela significativa (61,9%) do cenário gastronômico de Los Angeles, evidenciando sua presença robusta.*\n",
    "\n",
    "*Da mesma forma, para cafeterias, recomenda-se a consideração da abertura de estabelecimentos independentes. Cafés desempenham um papel destacado no mercado, e é importante notar que todas as padarias em Los Angeles estão associadas a uma determinada rede.*"
   ]
  },
  {
   "cell_type": "markdown",
   "metadata": {},
   "source": [
    "#### *Recomendações para o número de assentos.*"
   ]
  },
  {
   "cell_type": "markdown",
   "metadata": {},
   "source": [
    "*Os restaurantes se destacam por apresentarem os maiores números de assentos, enquanto Cafés e Padarias registram as menores médias de assentos. De maneira geral, as médias variam entre 21 e 48 assentos para todos os tipos de estabelecimentos.*"
   ]
  },
  {
   "cell_type": "markdown",
   "metadata": {},
   "source": [
    "#### *Perspectivas para o Desenvolvimento de uma Rede de Restaurantes.*"
   ]
  },
  {
   "cell_type": "markdown",
   "metadata": {},
   "source": [
    "*Duas ruas em Los Angeles se destacam por abrigar mais de 250 estabelecimentos cada: Sunset Boulevard e Pico Boulevard.*\n",
    "\n",
    "*Escolher algumas destas ruas, ou as listadas no top 10, podem contribuir para o sucesso da cafeteria ou de um restaurante, proporcionando visibilidade e atraindo um público diversificado.*"
   ]
  },
  {
   "cell_type": "markdown",
   "metadata": {},
   "source": [
    "#### *Link com a Apresentação: https://github....    *"
   ]
  }
 ],
 "metadata": {
  "kernelspec": {
   "display_name": "Python 3",
   "language": "python",
   "name": "python3"
  },
  "language_info": {
   "codemirror_mode": {
    "name": "ipython",
    "version": 3
   },
   "file_extension": ".py",
   "mimetype": "text/x-python",
   "name": "python",
   "nbconvert_exporter": "python",
   "pygments_lexer": "ipython3",
   "version": "3.11.4"
  }
 },
 "nbformat": 4,
 "nbformat_minor": 2
}
